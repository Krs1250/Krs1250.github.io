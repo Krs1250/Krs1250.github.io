{
 "cells": [
  {
   "cell_type": "markdown",
   "id": "8661edf6",
   "metadata": {},
   "source": [
    "# Python"
   ]
  },
  {
   "cell_type": "markdown",
   "id": "bdd7d4c4",
   "metadata": {
    "scrolled": true
   },
   "source": [
    "## 对库的运用"
   ]
  },
  {
   "cell_type": "markdown",
   "id": "72593455",
   "metadata": {},
   "source": [
    "### 库的导入"
   ]
  },
  {
   "cell_type": "markdown",
   "id": "f8562911",
   "metadata": {},
   "source": [
    "导入库\n",
    "```python\n",
    "import <库>\n",
    "```"
   ]
  },
  {
   "cell_type": "markdown",
   "id": "777bfc15",
   "metadata": {},
   "source": [
    "以自定义名称导入库\n",
    "```python\n",
    "import <库> as <自定义名称>\n",
    "```"
   ]
  },
  {
   "cell_type": "markdown",
   "id": "b28aff4a",
   "metadata": {},
   "source": [
    "导入库中某一函数\n",
    "```python\n",
    "from <库> import <函数>\n",
    "```"
   ]
  },
  {
   "cell_type": "markdown",
   "id": "2c0b724c",
   "metadata": {},
   "source": [
    "以自定义名称导入库中某一函数\n",
    "```python\n",
    "from <库> import <函数> as <自定义名称>\n",
    "```"
   ]
  },
  {
   "cell_type": "markdown",
   "id": "9b7eaf8f",
   "metadata": {},
   "source": [
    "### 获取帮助"
   ]
  },
  {
   "cell_type": "markdown",
   "id": "e75c321f",
   "metadata": {},
   "source": [
    "```python\n",
    "help(<库>)\n",
    "help(<库>.<函数>)\n",
    "```"
   ]
  },
  {
   "cell_type": "markdown",
   "id": "74d18e0c",
   "metadata": {},
   "source": [
    "## 数学相关"
   ]
  },
  {
   "cell_type": "markdown",
   "id": "185008f8",
   "metadata": {},
   "source": [
    "### 数字类型"
   ]
  },
  {
   "cell_type": "markdown",
   "id": "ea6d3e3b",
   "metadata": {},
   "source": [
    "#### 整数类型"
   ]
  },
  {
   "cell_type": "code",
   "execution_count": 47,
   "id": "2cd52deb",
   "metadata": {},
   "outputs": [
    {
     "data": {
      "text/plain": [
       "int"
      ]
     },
     "execution_count": 47,
     "metadata": {},
     "output_type": "execute_result"
    }
   ],
   "source": [
    "a = 25\n",
    "type(a)"
   ]
  },
  {
   "cell_type": "markdown",
   "id": "e032041f",
   "metadata": {},
   "source": [
    "#### 浮点数类型"
   ]
  },
  {
   "cell_type": "code",
   "execution_count": 50,
   "id": "4072a264",
   "metadata": {},
   "outputs": [
    {
     "data": {
      "text/plain": [
       "float"
      ]
     },
     "execution_count": 50,
     "metadata": {},
     "output_type": "execute_result"
    }
   ],
   "source": [
    "b = 5.2452424\n",
    "type(b)"
   ]
  },
  {
   "cell_type": "markdown",
   "id": "8a37292c",
   "metadata": {},
   "source": [
    "#### 复数类型"
   ]
  },
  {
   "cell_type": "code",
   "execution_count": 22,
   "id": "d35470f5",
   "metadata": {},
   "outputs": [
    {
     "data": {
      "text/plain": [
       "complex"
      ]
     },
     "execution_count": 22,
     "metadata": {},
     "output_type": "execute_result"
    }
   ],
   "source": [
    "c = 1.23e3+3.21e-3j\n",
    "type(c)"
   ]
  },
  {
   "cell_type": "code",
   "execution_count": 29,
   "id": "8e2e342a",
   "metadata": {},
   "outputs": [
    {
     "name": "stdout",
     "output_type": "stream",
     "text": [
      "c的实部：1230.0\n"
     ]
    }
   ],
   "source": [
    "c1 = c.real\n",
    "print(\"c的实部：\"+str(c1))"
   ]
  },
  {
   "cell_type": "code",
   "execution_count": 31,
   "id": "35f29160",
   "metadata": {},
   "outputs": [
    {
     "name": "stdout",
     "output_type": "stream",
     "text": [
      "c的虚部：0.00321\n"
     ]
    }
   ],
   "source": [
    "c2 = c.imag\n",
    "print(\"c的虚部：\"+str(c2))"
   ]
  },
  {
   "cell_type": "markdown",
   "id": "c3ec6606",
   "metadata": {},
   "source": [
    "### 数字类型的相互转换"
   ]
  },
  {
   "cell_type": "code",
   "execution_count": 51,
   "id": "d07758fc",
   "metadata": {},
   "outputs": [
    {
     "name": "stdout",
     "output_type": "stream",
     "text": [
      "a =  25 <class 'int'>\n",
      "b =  5.2452424 <class 'float'>\n",
      "c =  (1230+0.00321j) <class 'complex'>\n"
     ]
    }
   ],
   "source": [
    "print(\"a = \", str(a),type(a))\n",
    "print(\"b = \", str(b),type(b))\n",
    "print(\"c = \", str(c),type(c))"
   ]
  },
  {
   "cell_type": "markdown",
   "id": "9708af1b",
   "metadata": {},
   "source": [
    "#### int(  )"
   ]
  },
  {
   "cell_type": "code",
   "execution_count": 60,
   "id": "41b66e40",
   "metadata": {},
   "outputs": [
    {
     "name": "stdout",
     "output_type": "stream",
     "text": [
      "b =  5.2452424 <class 'float'>\n",
      "int(b) =  5 <class 'int'>\n",
      "ps: python不支持将复数转为整数\n"
     ]
    }
   ],
   "source": [
    "print(\"b = \", str(b),type(b))\n",
    "print(\"int(b) = \", str(int(b)),type(int(b)))\n",
    "print(\"ps: python不支持将复数转为整数\")"
   ]
  },
  {
   "cell_type": "markdown",
   "id": "fd1a16d7",
   "metadata": {},
   "source": [
    "#### float(  )"
   ]
  },
  {
   "cell_type": "code",
   "execution_count": 61,
   "id": "88f22e81",
   "metadata": {},
   "outputs": [
    {
     "name": "stdout",
     "output_type": "stream",
     "text": [
      "a =  25 <class 'int'>\n",
      "float(a) =  25.0 <class 'float'>\n",
      "ps: python不支持将复数转为浮点数\n"
     ]
    }
   ],
   "source": [
    "print(\"a = \", str(a),type(a))\n",
    "print(\"float(a) = \", str(float(a)),type(float(a)))\n",
    "print(\"ps: python不支持将复数转为浮点数\")"
   ]
  },
  {
   "cell_type": "markdown",
   "id": "d80bdb42",
   "metadata": {},
   "source": [
    "#### complex(  )"
   ]
  },
  {
   "cell_type": "code",
   "execution_count": 58,
   "id": "78690b69",
   "metadata": {},
   "outputs": [
    {
     "name": "stdout",
     "output_type": "stream",
     "text": [
      "a =  25 <class 'int'>\n",
      "complex(a) =  (25+0j) <class 'complex'>\n",
      "b =  5.2452424 <class 'float'>\n",
      "complex(b) =  (5.2452424+0j) <class 'complex'>\n"
     ]
    }
   ],
   "source": [
    "print(\"a = \", str(a),type(a))\n",
    "print(\"complex(a) = \", str(complex(a)),type(complex(a)))\n",
    "print(\"b = \", str(b),type(b))\n",
    "print(\"complex(b) = \", str(complex(b)),type(complex(b)))"
   ]
  },
  {
   "cell_type": "markdown",
   "id": "9777c02e",
   "metadata": {},
   "source": [
    "### 数字类型的运算（python自带）"
   ]
  },
  {
   "cell_type": "code",
   "execution_count": 99,
   "id": "60e6f0b1",
   "metadata": {},
   "outputs": [],
   "source": [
    "x = 7\n",
    "y = 4"
   ]
  },
  {
   "cell_type": "markdown",
   "id": "444b0f9a",
   "metadata": {},
   "source": [
    "#### 和"
   ]
  },
  {
   "cell_type": "code",
   "execution_count": 100,
   "id": "3330978a",
   "metadata": {},
   "outputs": [
    {
     "data": {
      "text/plain": [
       "11"
      ]
     },
     "execution_count": 100,
     "metadata": {},
     "output_type": "execute_result"
    }
   ],
   "source": [
    "x+y"
   ]
  },
  {
   "cell_type": "markdown",
   "id": "e136a994",
   "metadata": {},
   "source": [
    "#### 差"
   ]
  },
  {
   "cell_type": "code",
   "execution_count": 101,
   "id": "74816eee",
   "metadata": {},
   "outputs": [
    {
     "data": {
      "text/plain": [
       "3"
      ]
     },
     "execution_count": 101,
     "metadata": {},
     "output_type": "execute_result"
    }
   ],
   "source": [
    "x-y"
   ]
  },
  {
   "cell_type": "markdown",
   "id": "4608483c",
   "metadata": {},
   "source": [
    "#### 积"
   ]
  },
  {
   "cell_type": "code",
   "execution_count": 102,
   "id": "e087385f",
   "metadata": {},
   "outputs": [
    {
     "data": {
      "text/plain": [
       "28"
      ]
     },
     "execution_count": 102,
     "metadata": {},
     "output_type": "execute_result"
    }
   ],
   "source": [
    "x*y"
   ]
  },
  {
   "cell_type": "markdown",
   "id": "26b1e23f",
   "metadata": {},
   "source": [
    "#### 商"
   ]
  },
  {
   "cell_type": "code",
   "execution_count": 103,
   "id": "19137582",
   "metadata": {},
   "outputs": [
    {
     "data": {
      "text/plain": [
       "0.5714285714285714"
      ]
     },
     "execution_count": 103,
     "metadata": {},
     "output_type": "execute_result"
    }
   ],
   "source": [
    "y/x"
   ]
  },
  {
   "cell_type": "markdown",
   "id": "d5b172d1",
   "metadata": {},
   "source": [
    "#### 整除"
   ]
  },
  {
   "cell_type": "code",
   "execution_count": 104,
   "id": "ede03c61",
   "metadata": {},
   "outputs": [
    {
     "data": {
      "text/plain": [
       "1"
      ]
     },
     "execution_count": 104,
     "metadata": {},
     "output_type": "execute_result"
    }
   ],
   "source": [
    "x//y"
   ]
  },
  {
   "cell_type": "markdown",
   "id": "29ec17eb",
   "metadata": {},
   "source": [
    "#### 除余"
   ]
  },
  {
   "cell_type": "code",
   "execution_count": 105,
   "id": "f9665d8b",
   "metadata": {},
   "outputs": [
    {
     "data": {
      "text/plain": [
       "3"
      ]
     },
     "execution_count": 105,
     "metadata": {},
     "output_type": "execute_result"
    }
   ],
   "source": [
    "x%y"
   ]
  },
  {
   "cell_type": "markdown",
   "id": "5798c6da",
   "metadata": {},
   "source": [
    "#### （整除，除余）"
   ]
  },
  {
   "cell_type": "code",
   "execution_count": 106,
   "id": "d2fef70d",
   "metadata": {},
   "outputs": [
    {
     "data": {
      "text/plain": [
       "(1, 3)"
      ]
     },
     "execution_count": 106,
     "metadata": {},
     "output_type": "execute_result"
    }
   ],
   "source": [
    "divmod(x,y)"
   ]
  },
  {
   "cell_type": "markdown",
   "id": "600e37be",
   "metadata": {},
   "source": [
    "#### 幂"
   ]
  },
  {
   "cell_type": "code",
   "execution_count": 107,
   "id": "ecf860e0",
   "metadata": {},
   "outputs": [
    {
     "data": {
      "text/plain": [
       "2401"
      ]
     },
     "execution_count": 107,
     "metadata": {},
     "output_type": "execute_result"
    }
   ],
   "source": [
    "x**y"
   ]
  },
  {
   "cell_type": "code",
   "execution_count": 108,
   "id": "1e27abcd",
   "metadata": {},
   "outputs": [
    {
     "data": {
      "text/plain": [
       "2401"
      ]
     },
     "execution_count": 108,
     "metadata": {},
     "output_type": "execute_result"
    }
   ],
   "source": [
    "pow(x,y)"
   ]
  },
  {
   "cell_type": "markdown",
   "id": "b939a7e7",
   "metadata": {},
   "source": [
    "#### 绝对值"
   ]
  },
  {
   "cell_type": "code",
   "execution_count": 112,
   "id": "40833dec",
   "metadata": {},
   "outputs": [
    {
     "data": {
      "text/plain": [
       "-7"
      ]
     },
     "execution_count": 112,
     "metadata": {},
     "output_type": "execute_result"
    }
   ],
   "source": [
    "-x"
   ]
  },
  {
   "cell_type": "code",
   "execution_count": 113,
   "id": "a3914705",
   "metadata": {},
   "outputs": [
    {
     "data": {
      "text/plain": [
       "1.2"
      ]
     },
     "execution_count": 113,
     "metadata": {},
     "output_type": "execute_result"
    }
   ],
   "source": [
    "abs(-x)"
   ]
  }
 ],
 "metadata": {
  "kernelspec": {
   "display_name": "Python 3 (ipykernel)",
   "language": "python",
   "name": "python3"
  },
  "language_info": {
   "codemirror_mode": {
    "name": "ipython",
    "version": 3
   },
   "file_extension": ".py",
   "mimetype": "text/x-python",
   "name": "python",
   "nbconvert_exporter": "python",
   "pygments_lexer": "ipython3",
   "version": "3.9.13"
  }
 },
 "nbformat": 4,
 "nbformat_minor": 5
}
