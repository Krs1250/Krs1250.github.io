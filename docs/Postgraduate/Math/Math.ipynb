{
 "cells": [
  {
   "cell_type": "markdown",
   "id": "41532e75",
   "metadata": {},
   "source": [
    "# Math库"
   ]
  },
  {
   "cell_type": "markdown",
   "id": "4aed30c0",
   "metadata": {},
   "source": [
    "## 库的导入"
   ]
  },
  {
   "cell_type": "code",
   "execution_count": 469,
   "id": "1f339d5e",
   "metadata": {},
   "outputs": [],
   "source": [
    "import math"
   ]
  },
  {
   "cell_type": "code",
   "execution_count": 470,
   "id": "da415032",
   "metadata": {},
   "outputs": [],
   "source": [
    "from math import *\t# *表示函数名"
   ]
  },
  {
   "cell_type": "markdown",
   "id": "0da2c99a",
   "metadata": {},
   "source": [
    "## 库的解析"
   ]
  },
  {
   "cell_type": "code",
   "execution_count": 471,
   "id": "ac152d07",
   "metadata": {},
   "outputs": [
    {
     "name": "stdout",
     "output_type": "stream",
     "text": [
      "Help on module math:\n",
      "\n",
      "NAME\n",
      "    math\n",
      "\n",
      "MODULE REFERENCE\n",
      "    https://docs.python.org/3.9/library/math\n",
      "    \n",
      "    The following documentation is automatically generated from the Python\n",
      "    source files.  It may be incomplete, incorrect or include features that\n",
      "    are considered implementation detail and may vary between Python\n",
      "    implementations.  When in doubt, consult the module reference at the\n",
      "    location listed above.\n",
      "\n",
      "DESCRIPTION\n",
      "    This module provides access to the mathematical functions\n",
      "    defined by the C standard.\n",
      "\n",
      "FUNCTIONS\n",
      "    acos(x, /)\n",
      "        Return the arc cosine (measured in radians) of x.\n",
      "        \n",
      "        The result is between 0 and pi.\n",
      "    \n",
      "    acosh(x, /)\n",
      "        Return the inverse hyperbolic cosine of x.\n",
      "    \n",
      "    asin(x, /)\n",
      "        Return the arc sine (measured in radians) of x.\n",
      "        \n",
      "        The result is between -pi/2 and pi/2.\n",
      "    \n",
      "    asinh(x, /)\n",
      "        Return the inverse hyperbolic sine of x.\n",
      "    \n",
      "    atan(x, /)\n",
      "        Return the arc tangent (measured in radians) of x.\n",
      "        \n",
      "        The result is between -pi/2 and pi/2.\n",
      "    \n",
      "    atan2(y, x, /)\n",
      "        Return the arc tangent (measured in radians) of y/x.\n",
      "        \n",
      "        Unlike atan(y/x), the signs of both x and y are considered.\n",
      "    \n",
      "    atanh(x, /)\n",
      "        Return the inverse hyperbolic tangent of x.\n",
      "    \n",
      "    ceil(x, /)\n",
      "        Return the ceiling of x as an Integral.\n",
      "        \n",
      "        This is the smallest integer >= x.\n",
      "    \n",
      "    comb(n, k, /)\n",
      "        Number of ways to choose k items from n items without repetition and without order.\n",
      "        \n",
      "        Evaluates to n! / (k! * (n - k)!) when k <= n and evaluates\n",
      "        to zero when k > n.\n",
      "        \n",
      "        Also called the binomial coefficient because it is equivalent\n",
      "        to the coefficient of k-th term in polynomial expansion of the\n",
      "        expression (1 + x)**n.\n",
      "        \n",
      "        Raises TypeError if either of the arguments are not integers.\n",
      "        Raises ValueError if either of the arguments are negative.\n",
      "    \n",
      "    copysign(x, y, /)\n",
      "        Return a float with the magnitude (absolute value) of x but the sign of y.\n",
      "        \n",
      "        On platforms that support signed zeros, copysign(1.0, -0.0)\n",
      "        returns -1.0.\n",
      "    \n",
      "    cos(x, /)\n",
      "        Return the cosine of x (measured in radians).\n",
      "    \n",
      "    cosh(x, /)\n",
      "        Return the hyperbolic cosine of x.\n",
      "    \n",
      "    degrees(x, /)\n",
      "        Convert angle x from radians to degrees.\n",
      "    \n",
      "    dist(p, q, /)\n",
      "        Return the Euclidean distance between two points p and q.\n",
      "        \n",
      "        The points should be specified as sequences (or iterables) of\n",
      "        coordinates.  Both inputs must have the same dimension.\n",
      "        \n",
      "        Roughly equivalent to:\n",
      "            sqrt(sum((px - qx) ** 2.0 for px, qx in zip(p, q)))\n",
      "    \n",
      "    erf(x, /)\n",
      "        Error function at x.\n",
      "    \n",
      "    erfc(x, /)\n",
      "        Complementary error function at x.\n",
      "    \n",
      "    exp(x, /)\n",
      "        Return e raised to the power of x.\n",
      "    \n",
      "    expm1(x, /)\n",
      "        Return exp(x)-1.\n",
      "        \n",
      "        This function avoids the loss of precision involved in the direct evaluation of exp(x)-1 for small x.\n",
      "    \n",
      "    fabs(x, /)\n",
      "        Return the absolute value of the float x.\n",
      "    \n",
      "    factorial(x, /)\n",
      "        Find x!.\n",
      "        \n",
      "        Raise a ValueError if x is negative or non-integral.\n",
      "    \n",
      "    floor(x, /)\n",
      "        Return the floor of x as an Integral.\n",
      "        \n",
      "        This is the largest integer <= x.\n",
      "    \n",
      "    fmod(x, y, /)\n",
      "        Return fmod(x, y), according to platform C.\n",
      "        \n",
      "        x % y may differ.\n",
      "    \n",
      "    frexp(x, /)\n",
      "        Return the mantissa and exponent of x, as pair (m, e).\n",
      "        \n",
      "        m is a float and e is an int, such that x = m * 2.**e.\n",
      "        If x is 0, m and e are both 0.  Else 0.5 <= abs(m) < 1.0.\n",
      "    \n",
      "    fsum(seq, /)\n",
      "        Return an accurate floating point sum of values in the iterable seq.\n",
      "        \n",
      "        Assumes IEEE-754 floating point arithmetic.\n",
      "    \n",
      "    gamma(x, /)\n",
      "        Gamma function at x.\n",
      "    \n",
      "    gcd(*integers)\n",
      "        Greatest Common Divisor.\n",
      "    \n",
      "    hypot(...)\n",
      "        hypot(*coordinates) -> value\n",
      "        \n",
      "        Multidimensional Euclidean distance from the origin to a point.\n",
      "        \n",
      "        Roughly equivalent to:\n",
      "            sqrt(sum(x**2 for x in coordinates))\n",
      "        \n",
      "        For a two dimensional point (x, y), gives the hypotenuse\n",
      "        using the Pythagorean theorem:  sqrt(x*x + y*y).\n",
      "        \n",
      "        For example, the hypotenuse of a 3/4/5 right triangle is:\n",
      "        \n",
      "            >>> hypot(3.0, 4.0)\n",
      "            5.0\n",
      "    \n",
      "    isclose(a, b, *, rel_tol=1e-09, abs_tol=0.0)\n",
      "        Determine whether two floating point numbers are close in value.\n",
      "        \n",
      "          rel_tol\n",
      "            maximum difference for being considered \"close\", relative to the\n",
      "            magnitude of the input values\n",
      "          abs_tol\n",
      "            maximum difference for being considered \"close\", regardless of the\n",
      "            magnitude of the input values\n",
      "        \n",
      "        Return True if a is close in value to b, and False otherwise.\n",
      "        \n",
      "        For the values to be considered close, the difference between them\n",
      "        must be smaller than at least one of the tolerances.\n",
      "        \n",
      "        -inf, inf and NaN behave similarly to the IEEE 754 Standard.  That\n",
      "        is, NaN is not close to anything, even itself.  inf and -inf are\n",
      "        only close to themselves.\n",
      "    \n",
      "    isfinite(x, /)\n",
      "        Return True if x is neither an infinity nor a NaN, and False otherwise.\n",
      "    \n",
      "    isinf(x, /)\n",
      "        Return True if x is a positive or negative infinity, and False otherwise.\n",
      "    \n",
      "    isnan(x, /)\n",
      "        Return True if x is a NaN (not a number), and False otherwise.\n",
      "    \n",
      "    isqrt(n, /)\n",
      "        Return the integer part of the square root of the input.\n",
      "    \n",
      "    lcm(*integers)\n",
      "        Least Common Multiple.\n",
      "    \n",
      "    ldexp(x, i, /)\n",
      "        Return x * (2**i).\n",
      "        \n",
      "        This is essentially the inverse of frexp().\n",
      "    \n",
      "    lgamma(x, /)\n",
      "        Natural logarithm of absolute value of Gamma function at x.\n",
      "    \n",
      "    log(...)\n",
      "        log(x, [base=math.e])\n",
      "        Return the logarithm of x to the given base.\n",
      "        \n",
      "        If the base not specified, returns the natural logarithm (base e) of x.\n",
      "    \n",
      "    log10(x, /)\n",
      "        Return the base 10 logarithm of x.\n",
      "    \n",
      "    log1p(x, /)\n",
      "        Return the natural logarithm of 1+x (base e).\n",
      "        \n",
      "        The result is computed in a way which is accurate for x near zero.\n",
      "    \n",
      "    log2(x, /)\n",
      "        Return the base 2 logarithm of x.\n",
      "    \n",
      "    modf(x, /)\n",
      "        Return the fractional and integer parts of x.\n",
      "        \n",
      "        Both results carry the sign of x and are floats.\n",
      "    \n",
      "    nextafter(x, y, /)\n",
      "        Return the next floating-point value after x towards y.\n",
      "    \n",
      "    perm(n, k=None, /)\n",
      "        Number of ways to choose k items from n items without repetition and with order.\n",
      "        \n",
      "        Evaluates to n! / (n - k)! when k <= n and evaluates\n",
      "        to zero when k > n.\n",
      "        \n",
      "        If k is not specified or is None, then k defaults to n\n",
      "        and the function returns n!.\n",
      "        \n",
      "        Raises TypeError if either of the arguments are not integers.\n",
      "        Raises ValueError if either of the arguments are negative.\n",
      "    \n",
      "    pow(x, y, /)\n",
      "        Return x**y (x to the power of y).\n",
      "    \n",
      "    prod(iterable, /, *, start=1)\n",
      "        Calculate the product of all the elements in the input iterable.\n",
      "        \n",
      "        The default start value for the product is 1.\n",
      "        \n",
      "        When the iterable is empty, return the start value.  This function is\n",
      "        intended specifically for use with numeric values and may reject\n",
      "        non-numeric types.\n",
      "    \n",
      "    radians(x, /)\n",
      "        Convert angle x from degrees to radians.\n",
      "    \n",
      "    remainder(x, y, /)\n",
      "        Difference between x and the closest integer multiple of y.\n",
      "        \n",
      "        Return x - n*y where n*y is the closest integer multiple of y.\n",
      "        In the case where x is exactly halfway between two multiples of\n",
      "        y, the nearest even value of n is used. The result is always exact.\n",
      "    \n",
      "    sin(x, /)\n",
      "        Return the sine of x (measured in radians).\n",
      "    \n",
      "    sinh(x, /)\n",
      "        Return the hyperbolic sine of x.\n",
      "    \n",
      "    sqrt(x, /)\n",
      "        Return the square root of x.\n",
      "    \n",
      "    tan(x, /)\n",
      "        Return the tangent of x (measured in radians).\n",
      "    \n",
      "    tanh(x, /)\n",
      "        Return the hyperbolic tangent of x.\n",
      "    \n",
      "    trunc(x, /)\n",
      "        Truncates the Real x to the nearest Integral toward 0.\n",
      "        \n",
      "        Uses the __trunc__ magic method.\n",
      "    \n",
      "    ulp(x, /)\n",
      "        Return the value of the least significant bit of the float x.\n",
      "\n",
      "DATA\n",
      "    e = 2.718281828459045\n",
      "    inf = inf\n",
      "    nan = nan\n",
      "    pi = 3.141592653589793\n",
      "    tau = 6.283185307179586\n",
      "\n",
      "FILE\n",
      "    /home/ubuntu/anaconda3/lib/python3.9/lib-dynload/math.cpython-39-x86_64-linux-gnu.so\n",
      "\n",
      "\n"
     ]
    }
   ],
   "source": [
    "help(math)"
   ]
  },
  {
   "cell_type": "markdown",
   "id": "879f2254",
   "metadata": {},
   "source": [
    "### 常数"
   ]
  },
  {
   "cell_type": "code",
   "execution_count": 472,
   "id": "cd36aba6",
   "metadata": {},
   "outputs": [
    {
     "data": {
      "text/plain": [
       "3.141592653589793"
      ]
     },
     "execution_count": 472,
     "metadata": {},
     "output_type": "execute_result"
    }
   ],
   "source": [
    "# 圆周率π\n",
    "math.pi"
   ]
  },
  {
   "cell_type": "code",
   "execution_count": 473,
   "id": "07bc5208",
   "metadata": {},
   "outputs": [
    {
     "data": {
      "text/plain": [
       "2.718281828459045"
      ]
     },
     "execution_count": 473,
     "metadata": {},
     "output_type": "execute_result"
    }
   ],
   "source": [
    "# 自然对数e\n",
    "math.e"
   ]
  },
  {
   "cell_type": "code",
   "execution_count": 474,
   "id": "26d3aa52",
   "metadata": {},
   "outputs": [
    {
     "data": {
      "text/plain": [
       "inf"
      ]
     },
     "execution_count": 474,
     "metadata": {},
     "output_type": "execute_result"
    }
   ],
   "source": [
    "# 正无穷大∞\n",
    "math.inf"
   ]
  },
  {
   "cell_type": "code",
   "execution_count": 475,
   "id": "6280c82f",
   "metadata": {},
   "outputs": [
    {
     "data": {
      "text/plain": [
       "nan"
      ]
     },
     "execution_count": 475,
     "metadata": {},
     "output_type": "execute_result"
    }
   ],
   "source": [
    "# 非浮点数标记(Not a Number)\n",
    "math.nan"
   ]
  },
  {
   "cell_type": "markdown",
   "id": "7f8139b5",
   "metadata": {},
   "source": [
    "### 数值表示函数\n",
    "用于处理数值数据"
   ]
  },
  {
   "cell_type": "markdown",
   "id": "75455989",
   "metadata": {},
   "source": [
    "#### 返回$x$的绝对值 $|x|$\n"
   ]
  },
  {
   "cell_type": "code",
   "execution_count": 476,
   "id": "326fe854",
   "metadata": {},
   "outputs": [
    {
     "data": {
      "text/plain": [
       "100.0"
      ]
     },
     "execution_count": 476,
     "metadata": {},
     "output_type": "execute_result"
    }
   ],
   "source": [
    "x=-100\n",
    "math.fabs(x)"
   ]
  },
  {
   "cell_type": "markdown",
   "id": "c85cf983",
   "metadata": {},
   "source": [
    "#### 返回$x$与$y$的模 $x\\%y$\n"
   ]
  },
  {
   "cell_type": "code",
   "execution_count": 477,
   "id": "99185d6c",
   "metadata": {},
   "outputs": [
    {
     "data": {
      "text/plain": [
       "3.0"
      ]
     },
     "execution_count": 477,
     "metadata": {},
     "output_type": "execute_result"
    }
   ],
   "source": [
    "x,y=7,4\n",
    "math.fmod(x,y)"
   ]
  },
  {
   "cell_type": "markdown",
   "id": "31006fd2",
   "metadata": {},
   "source": [
    "#### 浮点数精确求和"
   ]
  },
  {
   "cell_type": "code",
   "execution_count": 478,
   "id": "8ca1cf64",
   "metadata": {},
   "outputs": [
    {
     "data": {
      "text/plain": [
       "6.6653"
      ]
     },
     "execution_count": 478,
     "metadata": {},
     "output_type": "execute_result"
    }
   ],
   "source": [
    "x,y,z=1.11,2.222,3.3333\n",
    "math.fsum([x,y,z])"
   ]
  },
  {
   "cell_type": "markdown",
   "id": "aaf2a960",
   "metadata": {},
   "source": [
    "#### 向上取整 $[x]$"
   ]
  },
  {
   "cell_type": "code",
   "execution_count": 479,
   "id": "cd5a9b21",
   "metadata": {},
   "outputs": [
    {
     "data": {
      "text/plain": [
       "5"
      ]
     },
     "execution_count": 479,
     "metadata": {},
     "output_type": "execute_result"
    }
   ],
   "source": [
    "x=4.5\n",
    "math.ceil(x)"
   ]
  },
  {
   "cell_type": "code",
   "execution_count": 480,
   "id": "807ce435",
   "metadata": {},
   "outputs": [
    {
     "data": {
      "text/plain": [
       "-3"
      ]
     },
     "execution_count": 480,
     "metadata": {},
     "output_type": "execute_result"
    }
   ],
   "source": [
    "x=-3.4\n",
    "math.ceil(x)"
   ]
  },
  {
   "cell_type": "markdown",
   "id": "f85b1da0",
   "metadata": {},
   "source": [
    "#### 向下取整 [x]"
   ]
  },
  {
   "cell_type": "code",
   "execution_count": 481,
   "id": "0d65f1a6",
   "metadata": {},
   "outputs": [
    {
     "data": {
      "text/plain": [
       "4"
      ]
     },
     "execution_count": 481,
     "metadata": {},
     "output_type": "execute_result"
    }
   ],
   "source": [
    "x=4.5\n",
    "math.floor(x)"
   ]
  },
  {
   "cell_type": "code",
   "execution_count": 482,
   "id": "f0e27988",
   "metadata": {},
   "outputs": [
    {
     "data": {
      "text/plain": [
       "-4"
      ]
     },
     "execution_count": 482,
     "metadata": {},
     "output_type": "execute_result"
    }
   ],
   "source": [
    "x=-3.4\n",
    "math.floor(x)"
   ]
  },
  {
   "cell_type": "markdown",
   "id": "a0fed3b0",
   "metadata": {},
   "source": [
    "#### 返回$x$的阶乘"
   ]
  },
  {
   "cell_type": "code",
   "execution_count": 483,
   "id": "04690249",
   "metadata": {},
   "outputs": [
    {
     "data": {
      "text/plain": [
       "24"
      ]
     },
     "execution_count": 483,
     "metadata": {},
     "output_type": "execute_result"
    }
   ],
   "source": [
    "x=4\n",
    "math.factorial(x)"
   ]
  },
  {
   "cell_type": "markdown",
   "id": "d538c708",
   "metadata": {},
   "source": [
    "#### 返回$a$与$b$的最大公约数"
   ]
  },
  {
   "cell_type": "code",
   "execution_count": 484,
   "id": "36ffb021",
   "metadata": {},
   "outputs": [
    {
     "data": {
      "text/plain": [
       "16"
      ]
     },
     "execution_count": 484,
     "metadata": {},
     "output_type": "execute_result"
    }
   ],
   "source": [
    "a,b=64,16\n",
    "math.gcd(a,b)"
   ]
  },
  {
   "cell_type": "markdown",
   "id": "153aaaeb",
   "metadata": {},
   "source": [
    "#### 以 (m, e) 对的形式返回 $x=m*2^n$ 的尾数和指数"
   ]
  },
  {
   "cell_type": "code",
   "execution_count": 485,
   "id": "aaa61010",
   "metadata": {},
   "outputs": [
    {
     "data": {
      "text/plain": [
       "(0.5, 3)"
      ]
     },
     "execution_count": 485,
     "metadata": {},
     "output_type": "execute_result"
    }
   ],
   "source": [
    "x=4\n",
    "math.frexp(x)"
   ]
  },
  {
   "cell_type": "markdown",
   "id": "cf7daee1",
   "metadata": {},
   "source": [
    "#### 返回（$x*2^i$）的运算值"
   ]
  },
  {
   "cell_type": "code",
   "execution_count": 486,
   "id": "ae434f31",
   "metadata": {},
   "outputs": [
    {
     "data": {
      "text/plain": [
       "4.0"
      ]
     },
     "execution_count": 486,
     "metadata": {},
     "output_type": "execute_result"
    }
   ],
   "source": [
    "x,i=0.5,3\n",
    "math.ldexp(x,i)"
   ]
  },
  {
   "cell_type": "markdown",
   "id": "7d593904",
   "metadata": {},
   "source": [
    "#### 返回$x$的小数和整数部分"
   ]
  },
  {
   "cell_type": "code",
   "execution_count": 487,
   "id": "56603360",
   "metadata": {},
   "outputs": [
    {
     "data": {
      "text/plain": [
       "(0.05384, 5.0)"
      ]
     },
     "execution_count": 487,
     "metadata": {},
     "output_type": "execute_result"
    }
   ],
   "source": [
    "x=5.05384\n",
    "round(math.modf(x)[0],10),math.modf(x)[1]"
   ]
  },
  {
   "cell_type": "markdown",
   "id": "b10c9d19",
   "metadata": {},
   "source": [
    "#### 返回$x$的整数部分"
   ]
  },
  {
   "cell_type": "code",
   "execution_count": 488,
   "id": "98406bd9",
   "metadata": {},
   "outputs": [
    {
     "data": {
      "text/plain": [
       "20"
      ]
     },
     "execution_count": 488,
     "metadata": {},
     "output_type": "execute_result"
    }
   ],
   "source": [
    "x=20.9898976\n",
    "math.trunc(x)"
   ]
  },
  {
   "cell_type": "markdown",
   "id": "fabc397f",
   "metadata": {},
   "source": [
    "#### 用数值$y$的正负号替换数值$x$的正负号"
   ]
  },
  {
   "cell_type": "code",
   "execution_count": 489,
   "id": "cedfc324",
   "metadata": {},
   "outputs": [
    {
     "data": {
      "text/plain": [
       "-15.0"
      ]
     },
     "execution_count": 489,
     "metadata": {},
     "output_type": "execute_result"
    }
   ],
   "source": [
    "x,y=15,-10\n",
    "math.copysign(x,y)"
   ]
  },
  {
   "cell_type": "markdown",
   "id": "dc54fc7e",
   "metadata": {},
   "source": [
    "#### 比较$a$和$b$的相似性，返回$True$或$False$"
   ]
  },
  {
   "cell_type": "code",
   "execution_count": 490,
   "id": "2149d677",
   "metadata": {},
   "outputs": [
    {
     "data": {
      "text/plain": [
       "False"
      ]
     },
     "execution_count": 490,
     "metadata": {},
     "output_type": "execute_result"
    }
   ],
   "source": [
    "x,y=5,6\n",
    "math.isclose(x,y)"
   ]
  },
  {
   "cell_type": "code",
   "execution_count": 491,
   "id": "c519edee",
   "metadata": {},
   "outputs": [
    {
     "data": {
      "text/plain": [
       "True"
      ]
     },
     "execution_count": 491,
     "metadata": {},
     "output_type": "execute_result"
    }
   ],
   "source": [
    "x,y=5,5\n",
    "math.isclose(x,y)"
   ]
  },
  {
   "cell_type": "markdown",
   "id": "4c706218",
   "metadata": {},
   "source": [
    "#### 判断是否为有限"
   ]
  },
  {
   "cell_type": "code",
   "execution_count": 492,
   "id": "f456451d",
   "metadata": {},
   "outputs": [
    {
     "data": {
      "text/plain": [
       "True"
      ]
     },
     "execution_count": 492,
     "metadata": {},
     "output_type": "execute_result"
    }
   ],
   "source": [
    "math.isfinite(20)"
   ]
  },
  {
   "cell_type": "code",
   "execution_count": 493,
   "id": "8025f524",
   "metadata": {},
   "outputs": [
    {
     "data": {
      "text/plain": [
       "False"
      ]
     },
     "execution_count": 493,
     "metadata": {},
     "output_type": "execute_result"
    }
   ],
   "source": [
    "math.isfinite(inf)"
   ]
  },
  {
   "cell_type": "code",
   "execution_count": 494,
   "id": "63d032f3",
   "metadata": {},
   "outputs": [
    {
     "data": {
      "text/plain": [
       "False"
      ]
     },
     "execution_count": 494,
     "metadata": {},
     "output_type": "execute_result"
    }
   ],
   "source": [
    "math.isfinite(nan)"
   ]
  },
  {
   "cell_type": "markdown",
   "id": "7273e95c",
   "metadata": {},
   "source": [
    "#### 判断是否为无穷大"
   ]
  },
  {
   "cell_type": "code",
   "execution_count": 495,
   "id": "57be2b88",
   "metadata": {},
   "outputs": [
    {
     "data": {
      "text/plain": [
       "False"
      ]
     },
     "execution_count": 495,
     "metadata": {},
     "output_type": "execute_result"
    }
   ],
   "source": [
    "math.isinf(20)"
   ]
  },
  {
   "cell_type": "code",
   "execution_count": 496,
   "id": "11f7467a",
   "metadata": {},
   "outputs": [
    {
     "data": {
      "text/plain": [
       "True"
      ]
     },
     "execution_count": 496,
     "metadata": {},
     "output_type": "execute_result"
    }
   ],
   "source": [
    "math.isinf(inf)"
   ]
  },
  {
   "cell_type": "code",
   "execution_count": 497,
   "id": "defc55ca",
   "metadata": {},
   "outputs": [
    {
     "data": {
      "text/plain": [
       "False"
      ]
     },
     "execution_count": 497,
     "metadata": {},
     "output_type": "execute_result"
    }
   ],
   "source": [
    "math.isinf(nan)"
   ]
  },
  {
   "cell_type": "markdown",
   "id": "1dc5f3ba",
   "metadata": {},
   "source": [
    "#### 判断是否为NaN"
   ]
  },
  {
   "cell_type": "code",
   "execution_count": 498,
   "id": "441c2d1e",
   "metadata": {},
   "outputs": [
    {
     "data": {
      "text/plain": [
       "False"
      ]
     },
     "execution_count": 498,
     "metadata": {},
     "output_type": "execute_result"
    }
   ],
   "source": [
    "math.isnan(20)"
   ]
  },
  {
   "cell_type": "code",
   "execution_count": 499,
   "id": "324fd01b",
   "metadata": {},
   "outputs": [
    {
     "data": {
      "text/plain": [
       "False"
      ]
     },
     "execution_count": 499,
     "metadata": {},
     "output_type": "execute_result"
    }
   ],
   "source": [
    "math.isnan(inf)"
   ]
  },
  {
   "cell_type": "code",
   "execution_count": 500,
   "id": "8a2522fc",
   "metadata": {},
   "outputs": [
    {
     "data": {
      "text/plain": [
       "True"
      ]
     },
     "execution_count": 500,
     "metadata": {},
     "output_type": "execute_result"
    }
   ],
   "source": [
    "math.isnan(nan)"
   ]
  },
  {
   "cell_type": "markdown",
   "id": "231ba56e",
   "metadata": {},
   "source": [
    "### 幂&指数&对数函数"
   ]
  },
  {
   "cell_type": "markdown",
   "id": "b84fdd2c",
   "metadata": {},
   "source": [
    "#### 返回$x$的$y$次幂 $x^y$"
   ]
  },
  {
   "cell_type": "code",
   "execution_count": 501,
   "id": "eef6a66e",
   "metadata": {},
   "outputs": [
    {
     "data": {
      "text/plain": [
       "8.0"
      ]
     },
     "execution_count": 501,
     "metadata": {},
     "output_type": "execute_result"
    }
   ],
   "source": [
    "x,y=2,3\n",
    "math.pow(x,y)"
   ]
  },
  {
   "cell_type": "markdown",
   "id": "9ce0fbb5",
   "metadata": {},
   "source": [
    "#### 返回$e$的$x$次幂 $e^x$"
   ]
  },
  {
   "cell_type": "code",
   "execution_count": 502,
   "id": "4623c283",
   "metadata": {},
   "outputs": [
    {
     "data": {
      "text/plain": [
       "20.085536923187668"
      ]
     },
     "execution_count": 502,
     "metadata": {},
     "output_type": "execute_result"
    }
   ],
   "source": [
    "x=3\n",
    "math.exp(x)"
   ]
  },
  {
   "cell_type": "markdown",
   "id": "c487f704",
   "metadata": {},
   "source": [
    "#### 返回$e$的$x$次幂减1 $e^{x}-1$"
   ]
  },
  {
   "cell_type": "code",
   "execution_count": 503,
   "id": "99a018c7",
   "metadata": {},
   "outputs": [
    {
     "data": {
      "text/plain": [
       "19.085536923187668"
      ]
     },
     "execution_count": 503,
     "metadata": {},
     "output_type": "execute_result"
    }
   ],
   "source": [
    "x=3\n",
    "math.expm1(x)"
   ]
  },
  {
   "cell_type": "markdown",
   "id": "a4d8e568",
   "metadata": {},
   "source": [
    "#### 返回$x$的平方根 $\\sqrt x$"
   ]
  },
  {
   "cell_type": "code",
   "execution_count": 504,
   "id": "3280d84e",
   "metadata": {},
   "outputs": [
    {
     "data": {
      "text/plain": [
       "3.0"
      ]
     },
     "execution_count": 504,
     "metadata": {},
     "output_type": "execute_result"
    }
   ],
   "source": [
    "x=9\n",
    "math.sqrt(x)"
   ]
  },
  {
   "cell_type": "markdown",
   "id": "c65c8c15",
   "metadata": {},
   "source": [
    "#### 返回$x$的对数值 $log_{y}x$（默认返回自然对数$lnx$）"
   ]
  },
  {
   "cell_type": "code",
   "execution_count": 505,
   "id": "e2611a8c",
   "metadata": {},
   "outputs": [
    {
     "data": {
      "text/plain": [
       "2.0"
      ]
     },
     "execution_count": 505,
     "metadata": {},
     "output_type": "execute_result"
    }
   ],
   "source": [
    "x,y=9,3\n",
    "math.log(x,y)"
   ]
  },
  {
   "cell_type": "markdown",
   "id": "aa1221a6",
   "metadata": {},
   "source": [
    "#### 返回$1+x$的自然对数值 $ln(1+x)$"
   ]
  },
  {
   "cell_type": "code",
   "execution_count": 506,
   "id": "3b353058",
   "metadata": {},
   "outputs": [
    {
     "data": {
      "text/plain": [
       "1.3862943611198906"
      ]
     },
     "execution_count": 506,
     "metadata": {},
     "output_type": "execute_result"
    }
   ],
   "source": [
    "x=3\n",
    "math.log1p(x)"
   ]
  },
  {
   "cell_type": "markdown",
   "id": "0e349d77",
   "metadata": {},
   "source": [
    "#### 返回$x$以2为底的对数值 $log_{2}x$"
   ]
  },
  {
   "cell_type": "code",
   "execution_count": 507,
   "id": "46383e9e",
   "metadata": {},
   "outputs": [
    {
     "data": {
      "text/plain": [
       "3.0"
      ]
     },
     "execution_count": 507,
     "metadata": {},
     "output_type": "execute_result"
    }
   ],
   "source": [
    "x=8\n",
    "math.log2(x)"
   ]
  },
  {
   "cell_type": "markdown",
   "id": "46850ab5",
   "metadata": {},
   "source": [
    "#### 返回$x$以10为底的对数值 $log_{10}x$"
   ]
  },
  {
   "cell_type": "code",
   "execution_count": 508,
   "id": "56df5ffe",
   "metadata": {},
   "outputs": [
    {
     "data": {
      "text/plain": [
       "4.0"
      ]
     },
     "execution_count": 508,
     "metadata": {},
     "output_type": "execute_result"
    }
   ],
   "source": [
    "x=10000\n",
    "math.log10(x)"
   ]
  },
  {
   "cell_type": "markdown",
   "id": "8bfa8153",
   "metadata": {},
   "source": [
    "#### *小技巧-计算其它底数的对数值*"
   ]
  },
  {
   "cell_type": "markdown",
   "id": "026119c2",
   "metadata": {},
   "source": [
    "换底公式\n",
    "$log_{6}45 = \\frac{log_{10}45}{log_{10}6} = \\frac{lg45}{lg6}$"
   ]
  },
  {
   "cell_type": "markdown",
   "id": "69ce2086",
   "metadata": {},
   "source": [
    "### 三角&反三角函数"
   ]
  },
  {
   "cell_type": "markdown",
   "id": "f9799c60",
   "metadata": {},
   "source": [
    "#### 弧度制转为角度制"
   ]
  },
  {
   "cell_type": "code",
   "execution_count": 509,
   "id": "00969972",
   "metadata": {},
   "outputs": [
    {
     "data": {
      "text/plain": [
       "360.0"
      ]
     },
     "execution_count": 509,
     "metadata": {},
     "output_type": "execute_result"
    }
   ],
   "source": [
    "x=2*math.pi\n",
    "math.degrees(x)"
   ]
  },
  {
   "cell_type": "markdown",
   "id": "8d4875c1",
   "metadata": {},
   "source": [
    "#### 角度制转为弧度制"
   ]
  },
  {
   "cell_type": "code",
   "execution_count": 510,
   "id": "6dc99837",
   "metadata": {},
   "outputs": [
    {
     "data": {
      "text/plain": [
       "3.141592653589793"
      ]
     },
     "execution_count": 510,
     "metadata": {},
     "output_type": "execute_result"
    }
   ],
   "source": [
    "x=180\n",
    "math.radians(x)"
   ]
  },
  {
   "cell_type": "code",
   "execution_count": 511,
   "id": "313353f7",
   "metadata": {},
   "outputs": [
    {
     "name": "stdout",
     "output_type": "stream",
     "text": [
      "化简： 1.0 * pi\n"
     ]
    }
   ],
   "source": [
    "print(\"化简：\",str(math.radians(x)/math.pi),\"* pi\")"
   ]
  },
  {
   "cell_type": "markdown",
   "id": "18816503",
   "metadata": {},
   "source": [
    "#### 返回（x,y）到原点（0,0）的距离 $\\sqrt{x^2+y^2}$"
   ]
  },
  {
   "cell_type": "code",
   "execution_count": 512,
   "id": "729b37da",
   "metadata": {},
   "outputs": [
    {
     "data": {
      "text/plain": [
       "5.0"
      ]
     },
     "execution_count": 512,
     "metadata": {},
     "output_type": "execute_result"
    }
   ],
   "source": [
    "x,y=3,4\n",
    "math.hypot(x,y)"
   ]
  },
  {
   "cell_type": "markdown",
   "id": "6ffa2534",
   "metadata": {},
   "source": [
    "#### 正弦函数值 $sinx$"
   ]
  },
  {
   "cell_type": "code",
   "execution_count": 513,
   "id": "24877695",
   "metadata": {},
   "outputs": [
    {
     "data": {
      "text/plain": [
       "0.5"
      ]
     },
     "execution_count": 513,
     "metadata": {},
     "output_type": "execute_result"
    }
   ],
   "source": [
    "# x是弧度值（π，π/2...）\n",
    "x=math.pi/6\n",
    "round(math.sin(x),3)"
   ]
  },
  {
   "cell_type": "code",
   "execution_count": 514,
   "id": "1e3ab712",
   "metadata": {},
   "outputs": [
    {
     "data": {
      "text/plain": [
       "0.707"
      ]
     },
     "execution_count": 514,
     "metadata": {},
     "output_type": "execute_result"
    }
   ],
   "source": [
    "x=math.pi/4\n",
    "round(math.sin(x),3)"
   ]
  },
  {
   "cell_type": "code",
   "execution_count": 515,
   "id": "6b7fe772",
   "metadata": {},
   "outputs": [
    {
     "data": {
      "text/plain": [
       "0.866"
      ]
     },
     "execution_count": 515,
     "metadata": {},
     "output_type": "execute_result"
    }
   ],
   "source": [
    "x=math.pi/3\n",
    "round(math.sin(x),3)"
   ]
  },
  {
   "cell_type": "code",
   "execution_count": 516,
   "id": "421e23d3",
   "metadata": {},
   "outputs": [
    {
     "data": {
      "text/plain": [
       "1.0"
      ]
     },
     "execution_count": 516,
     "metadata": {},
     "output_type": "execute_result"
    }
   ],
   "source": [
    "x=math.pi/2\n",
    "round(math.sin(x),3)"
   ]
  },
  {
   "cell_type": "markdown",
   "id": "433bdcf6",
   "metadata": {},
   "source": [
    "#### 余弦函数值 $cosx$"
   ]
  },
  {
   "cell_type": "code",
   "execution_count": 517,
   "id": "625d3436",
   "metadata": {},
   "outputs": [
    {
     "data": {
      "text/plain": [
       "0.866"
      ]
     },
     "execution_count": 517,
     "metadata": {},
     "output_type": "execute_result"
    }
   ],
   "source": [
    "# x是弧度值（π，π/2...）\n",
    "x=math.pi/6\n",
    "round(math.cos(x),3)"
   ]
  },
  {
   "cell_type": "code",
   "execution_count": 518,
   "id": "b063c6e2",
   "metadata": {},
   "outputs": [
    {
     "data": {
      "text/plain": [
       "0.707"
      ]
     },
     "execution_count": 518,
     "metadata": {},
     "output_type": "execute_result"
    }
   ],
   "source": [
    "x=math.pi/4\n",
    "round(math.sin(x),3)"
   ]
  },
  {
   "cell_type": "code",
   "execution_count": 519,
   "id": "fc1e38f0",
   "metadata": {},
   "outputs": [
    {
     "data": {
      "text/plain": [
       "0.5"
      ]
     },
     "execution_count": 519,
     "metadata": {},
     "output_type": "execute_result"
    }
   ],
   "source": [
    "x=math.pi/3\n",
    "round(math.cos(x),2)"
   ]
  },
  {
   "cell_type": "code",
   "execution_count": 520,
   "id": "d42e957b",
   "metadata": {},
   "outputs": [
    {
     "data": {
      "text/plain": [
       "0.0"
      ]
     },
     "execution_count": 520,
     "metadata": {},
     "output_type": "execute_result"
    }
   ],
   "source": [
    "x=math.pi/2\n",
    "round(math.cos(x),2)"
   ]
  },
  {
   "cell_type": "markdown",
   "id": "7a89cc2d",
   "metadata": {},
   "source": [
    "#### 正切函数值 $tanx$"
   ]
  },
  {
   "cell_type": "code",
   "execution_count": 521,
   "id": "578975f8",
   "metadata": {},
   "outputs": [
    {
     "data": {
      "text/plain": [
       "0.577"
      ]
     },
     "execution_count": 521,
     "metadata": {},
     "output_type": "execute_result"
    }
   ],
   "source": [
    "# x是弧度值（π，π/2...）\n",
    "x=math.pi/6\n",
    "round(math.tan(x),3)"
   ]
  },
  {
   "cell_type": "code",
   "execution_count": 522,
   "id": "fe192bba",
   "metadata": {},
   "outputs": [
    {
     "data": {
      "text/plain": [
       "1.0"
      ]
     },
     "execution_count": 522,
     "metadata": {},
     "output_type": "execute_result"
    }
   ],
   "source": [
    "x=math.pi/4\n",
    "round(math.tan(x),3)"
   ]
  },
  {
   "cell_type": "code",
   "execution_count": 523,
   "id": "e0488b52",
   "metadata": {},
   "outputs": [
    {
     "data": {
      "text/plain": [
       "1.732"
      ]
     },
     "execution_count": 523,
     "metadata": {},
     "output_type": "execute_result"
    }
   ],
   "source": [
    "x=math.pi/3\n",
    "round(math.tan(x),3)"
   ]
  },
  {
   "cell_type": "code",
   "execution_count": 524,
   "id": "d69d0704",
   "metadata": {},
   "outputs": [
    {
     "data": {
      "text/plain": [
       "1.633123935319537e+16"
      ]
     },
     "execution_count": 524,
     "metadata": {},
     "output_type": "execute_result"
    }
   ],
   "source": [
    "x=math.pi/2\n",
    "round(math.tan(x),3)"
   ]
  },
  {
   "cell_type": "markdown",
   "id": "5eeb5fe6",
   "metadata": {},
   "source": [
    "#### 反正弦函数值 $arcsinx$"
   ]
  },
  {
   "cell_type": "code",
   "execution_count": 525,
   "id": "76c74b54",
   "metadata": {},
   "outputs": [
    {
     "data": {
      "text/plain": [
       "1.571"
      ]
     },
     "execution_count": 525,
     "metadata": {},
     "output_type": "execute_result"
    }
   ],
   "source": [
    "x=1\n",
    "round(math.asin(x),3)"
   ]
  },
  {
   "cell_type": "code",
   "execution_count": 526,
   "id": "958651cc",
   "metadata": {},
   "outputs": [
    {
     "data": {
      "text/plain": [
       "-1.571"
      ]
     },
     "execution_count": 526,
     "metadata": {},
     "output_type": "execute_result"
    }
   ],
   "source": [
    "x=-1\n",
    "round(math.asin(x),3)"
   ]
  },
  {
   "cell_type": "markdown",
   "id": "af67cffc",
   "metadata": {},
   "source": [
    "#### 反余弦函数值 $arccosx$"
   ]
  },
  {
   "cell_type": "code",
   "execution_count": 527,
   "id": "eaf47f80",
   "metadata": {},
   "outputs": [
    {
     "data": {
      "text/plain": [
       "0.0"
      ]
     },
     "execution_count": 527,
     "metadata": {},
     "output_type": "execute_result"
    }
   ],
   "source": [
    "x=1\n",
    "round(math.acos(x),3)"
   ]
  },
  {
   "cell_type": "code",
   "execution_count": 528,
   "id": "45462a39",
   "metadata": {},
   "outputs": [
    {
     "data": {
      "text/plain": [
       "-1.571"
      ]
     },
     "execution_count": 528,
     "metadata": {},
     "output_type": "execute_result"
    }
   ],
   "source": [
    "x=-1\n",
    "round(math.asin(x),3)"
   ]
  },
  {
   "cell_type": "markdown",
   "id": "1ce577cc",
   "metadata": {},
   "source": [
    "#### 反正切函数值 $arctanx$"
   ]
  },
  {
   "cell_type": "code",
   "execution_count": 529,
   "id": "af632004",
   "metadata": {},
   "outputs": [
    {
     "data": {
      "text/plain": [
       "1.571"
      ]
     },
     "execution_count": 529,
     "metadata": {},
     "output_type": "execute_result"
    }
   ],
   "source": [
    "x=inf\n",
    "round(math.atan(x),3)"
   ]
  },
  {
   "cell_type": "code",
   "execution_count": 530,
   "id": "9b9501a0",
   "metadata": {},
   "outputs": [
    {
     "data": {
      "text/plain": [
       "-1.571"
      ]
     },
     "execution_count": 530,
     "metadata": {},
     "output_type": "execute_result"
    }
   ],
   "source": [
    "x=-inf\n",
    "round(math.atan(x),3)"
   ]
  },
  {
   "cell_type": "markdown",
   "id": "b6ec5b1f",
   "metadata": {},
   "source": [
    "#### 双曲正弦函数值 $sinhx=\\frac{e^{x}-e^{-x}}{2}$"
   ]
  },
  {
   "cell_type": "code",
   "execution_count": 531,
   "id": "6779a91a",
   "metadata": {},
   "outputs": [
    {
     "data": {
      "text/plain": [
       "inf"
      ]
     },
     "execution_count": 531,
     "metadata": {},
     "output_type": "execute_result"
    }
   ],
   "source": [
    "x=inf\n",
    "round(math.sinh(x),3)"
   ]
  },
  {
   "cell_type": "code",
   "execution_count": 532,
   "id": "a49f31e7",
   "metadata": {},
   "outputs": [
    {
     "data": {
      "text/plain": [
       "0.0"
      ]
     },
     "execution_count": 532,
     "metadata": {},
     "output_type": "execute_result"
    }
   ],
   "source": [
    "x=0\n",
    "round(math.sinh(x),3)"
   ]
  },
  {
   "cell_type": "code",
   "execution_count": 533,
   "id": "d368d756",
   "metadata": {},
   "outputs": [
    {
     "data": {
      "text/plain": [
       "1.175"
      ]
     },
     "execution_count": 533,
     "metadata": {},
     "output_type": "execute_result"
    }
   ],
   "source": [
    "x=1\n",
    "round(math.sinh(x),3)"
   ]
  },
  {
   "cell_type": "code",
   "execution_count": 534,
   "id": "9a4a4088",
   "metadata": {},
   "outputs": [
    {
     "data": {
      "text/plain": [
       "-inf"
      ]
     },
     "execution_count": 534,
     "metadata": {},
     "output_type": "execute_result"
    }
   ],
   "source": [
    "x=-inf\n",
    "round(math.sinh(x),3)"
   ]
  },
  {
   "cell_type": "markdown",
   "id": "42d61099",
   "metadata": {},
   "source": [
    "#### 双曲余弦函数值 $coshx=\\frac{e^x+e^{-x}}{2}$"
   ]
  },
  {
   "cell_type": "code",
   "execution_count": 535,
   "id": "e7734202",
   "metadata": {},
   "outputs": [
    {
     "data": {
      "text/plain": [
       "inf"
      ]
     },
     "execution_count": 535,
     "metadata": {},
     "output_type": "execute_result"
    }
   ],
   "source": [
    "x=inf\n",
    "round(math.cosh(x),3)"
   ]
  },
  {
   "cell_type": "code",
   "execution_count": 536,
   "id": "2ecd10f9",
   "metadata": {},
   "outputs": [
    {
     "data": {
      "text/plain": [
       "1.0"
      ]
     },
     "execution_count": 536,
     "metadata": {},
     "output_type": "execute_result"
    }
   ],
   "source": [
    "x=0\n",
    "round(math.cosh(x),3)"
   ]
  },
  {
   "cell_type": "code",
   "execution_count": 537,
   "id": "9d6bb156",
   "metadata": {},
   "outputs": [
    {
     "data": {
      "text/plain": [
       "1.543"
      ]
     },
     "execution_count": 537,
     "metadata": {},
     "output_type": "execute_result"
    }
   ],
   "source": [
    "x=1\n",
    "round(math.cosh(x),3)"
   ]
  },
  {
   "cell_type": "code",
   "execution_count": 538,
   "id": "c32ee597",
   "metadata": {},
   "outputs": [
    {
     "data": {
      "text/plain": [
       "inf"
      ]
     },
     "execution_count": 538,
     "metadata": {},
     "output_type": "execute_result"
    }
   ],
   "source": [
    "x=-inf\n",
    "round(math.cosh(x),3)"
   ]
  },
  {
   "cell_type": "markdown",
   "id": "83765116",
   "metadata": {},
   "source": [
    "#### 双曲正切函数值 $tanhx=\\frac{sinhx}{coshx}=\\frac{e^{x}-e^{-x}}{e^{x}+e^{-x}}$"
   ]
  },
  {
   "cell_type": "code",
   "execution_count": 539,
   "id": "6a2b6347",
   "metadata": {},
   "outputs": [
    {
     "data": {
      "text/plain": [
       "1.0"
      ]
     },
     "execution_count": 539,
     "metadata": {},
     "output_type": "execute_result"
    }
   ],
   "source": [
    "x=inf\n",
    "round(math.tanh(x),3)"
   ]
  },
  {
   "cell_type": "code",
   "execution_count": 540,
   "id": "e9a1a686",
   "metadata": {},
   "outputs": [
    {
     "data": {
      "text/plain": [
       "0.0"
      ]
     },
     "execution_count": 540,
     "metadata": {},
     "output_type": "execute_result"
    }
   ],
   "source": [
    "x=0\n",
    "round(math.tanh(x),3)"
   ]
  },
  {
   "cell_type": "code",
   "execution_count": 541,
   "id": "0111e8d6",
   "metadata": {},
   "outputs": [
    {
     "data": {
      "text/plain": [
       "0.762"
      ]
     },
     "execution_count": 541,
     "metadata": {},
     "output_type": "execute_result"
    }
   ],
   "source": [
    "x=1\n",
    "round(math.tanh(x),3)"
   ]
  },
  {
   "cell_type": "code",
   "execution_count": 542,
   "id": "afc5202d",
   "metadata": {},
   "outputs": [
    {
     "data": {
      "text/plain": [
       "-1.0"
      ]
     },
     "execution_count": 542,
     "metadata": {},
     "output_type": "execute_result"
    }
   ],
   "source": [
    "x=-inf\n",
    "round(math.tanh(x),3)"
   ]
  },
  {
   "cell_type": "markdown",
   "id": "cc188b33",
   "metadata": {},
   "source": [
    "#### 反双曲正弦函数值 $arcsinhx=ln(x+\\sqrt{x^2+1})$"
   ]
  },
  {
   "cell_type": "code",
   "execution_count": 543,
   "id": "65847ed6",
   "metadata": {},
   "outputs": [
    {
     "data": {
      "text/plain": [
       "0.0"
      ]
     },
     "execution_count": 543,
     "metadata": {},
     "output_type": "execute_result"
    }
   ],
   "source": [
    "x=0\n",
    "round(math.asinh(x),3)"
   ]
  },
  {
   "cell_type": "code",
   "execution_count": 544,
   "id": "81e5fc6b",
   "metadata": {},
   "outputs": [
    {
     "data": {
      "text/plain": [
       "inf"
      ]
     },
     "execution_count": 544,
     "metadata": {},
     "output_type": "execute_result"
    }
   ],
   "source": [
    "x=inf\n",
    "round(math.asinh(x),3)"
   ]
  },
  {
   "cell_type": "code",
   "execution_count": 545,
   "id": "9474ad14",
   "metadata": {},
   "outputs": [
    {
     "data": {
      "text/plain": [
       "-inf"
      ]
     },
     "execution_count": 545,
     "metadata": {},
     "output_type": "execute_result"
    }
   ],
   "source": [
    "x=-inf\n",
    "round(math.asinh(x),3)"
   ]
  },
  {
   "cell_type": "markdown",
   "id": "d417c9a2",
   "metadata": {},
   "source": [
    "#### 反双曲余弦函数值  $arccoshx=ln(x+\\sqrt{x^2-1})$"
   ]
  },
  {
   "cell_type": "code",
   "execution_count": 546,
   "id": "be01faff",
   "metadata": {},
   "outputs": [
    {
     "data": {
      "text/plain": [
       "0.0"
      ]
     },
     "execution_count": 546,
     "metadata": {},
     "output_type": "execute_result"
    }
   ],
   "source": [
    "x=1\n",
    "round(math.acosh(x),3)"
   ]
  },
  {
   "cell_type": "code",
   "execution_count": 547,
   "id": "091ab5b7",
   "metadata": {},
   "outputs": [
    {
     "data": {
      "text/plain": [
       "inf"
      ]
     },
     "execution_count": 547,
     "metadata": {},
     "output_type": "execute_result"
    }
   ],
   "source": [
    "x=inf\n",
    "round(math.acosh(x),3)"
   ]
  },
  {
   "cell_type": "markdown",
   "id": "7f1b32b5",
   "metadata": {},
   "source": [
    "#### 反双曲正切函数值  $arctanhx=\\frac{1}{2} ln \\frac{1+x}{1-x}$"
   ]
  },
  {
   "cell_type": "code",
   "execution_count": 548,
   "id": "4e46292c",
   "metadata": {},
   "outputs": [
    {
     "data": {
      "text/plain": [
       "0.0"
      ]
     },
     "execution_count": 548,
     "metadata": {},
     "output_type": "execute_result"
    }
   ],
   "source": [
    "x=0\n",
    "round(math.atanh(x),3)"
   ]
  },
  {
   "cell_type": "markdown",
   "id": "41dc0623",
   "metadata": {},
   "source": [
    "### 高等特殊函数"
   ]
  },
  {
   "cell_type": "markdown",
   "id": "37529dbe",
   "metadata": {},
   "source": [
    "#### 高斯误差函数 $\\frac{2}{\\sqrt \\pi}\\int_{0}^{x}e^{-t^2}dt$"
   ]
  },
  {
   "cell_type": "code",
   "execution_count": 549,
   "id": "154e3ce8",
   "metadata": {},
   "outputs": [
    {
     "data": {
      "text/plain": [
       "0.0"
      ]
     },
     "execution_count": 549,
     "metadata": {},
     "output_type": "execute_result"
    }
   ],
   "source": [
    "x=0\n",
    "math.erf(x)"
   ]
  },
  {
   "cell_type": "markdown",
   "id": "0f16e629",
   "metadata": {},
   "source": [
    "#### 余补高斯误差函数 $\\frac{2}{\\sqrt \\pi}\\int_{x}^{\\infty}e^{-t^2}dt$"
   ]
  },
  {
   "cell_type": "code",
   "execution_count": 550,
   "id": "12de552d",
   "metadata": {},
   "outputs": [
    {
     "data": {
      "text/plain": [
       "1.0"
      ]
     },
     "execution_count": 550,
     "metadata": {},
     "output_type": "execute_result"
    }
   ],
   "source": [
    "x=0\n",
    "math.erfc(x)"
   ]
  },
  {
   "cell_type": "markdown",
   "id": "2295d4d4",
   "metadata": {},
   "source": [
    "#### 伽玛（Gamma）函数 $\\int_0^{\\infty}x^{t-1}e^{-x}dx$"
   ]
  },
  {
   "cell_type": "code",
   "execution_count": 551,
   "id": "0ffe5c18",
   "metadata": {},
   "outputs": [
    {
     "data": {
      "text/plain": [
       "1.0"
      ]
     },
     "execution_count": 551,
     "metadata": {},
     "output_type": "execute_result"
    }
   ],
   "source": [
    "x=1\n",
    "math.gamma(x)"
   ]
  },
  {
   "cell_type": "markdown",
   "id": "b6d54f90",
   "metadata": {},
   "source": [
    "#### 伽马函数的自然对数 $ln(gamma(x))$"
   ]
  },
  {
   "cell_type": "code",
   "execution_count": 552,
   "id": "54d109f8",
   "metadata": {},
   "outputs": [
    {
     "data": {
      "text/plain": [
       "0.0"
      ]
     },
     "execution_count": 552,
     "metadata": {},
     "output_type": "execute_result"
    }
   ],
   "source": [
    "x=1\n",
    "math.lgamma(x)"
   ]
  },
  {
   "cell_type": "markdown",
   "id": "e46c28cc",
   "metadata": {},
   "source": [
    "## 实例"
   ]
  },
  {
   "cell_type": "code",
   "execution_count": null,
   "id": "70cec811",
   "metadata": {},
   "outputs": [],
   "source": []
  }
 ],
 "metadata": {
  "celltoolbar": "无",
  "kernelspec": {
   "display_name": "Python 3 (ipykernel)",
   "language": "python",
   "name": "python3"
  },
  "language_info": {
   "codemirror_mode": {
    "name": "ipython",
    "version": 3
   },
   "file_extension": ".py",
   "mimetype": "text/x-python",
   "name": "python",
   "nbconvert_exporter": "python",
   "pygments_lexer": "ipython3",
   "version": "3.9.13"
  },
  "toc": {
   "base_numbering": 1,
   "nav_menu": {},
   "number_sections": true,
   "sideBar": true,
   "skip_h1_title": false,
   "title_cell": "Table of Contents",
   "title_sidebar": "Contents",
   "toc_cell": false,
   "toc_position": {},
   "toc_section_display": true,
   "toc_window_display": false
  }
 },
 "nbformat": 4,
 "nbformat_minor": 5
}
